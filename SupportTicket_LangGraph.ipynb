{
  "nbformat": 4,
  "nbformat_minor": 0,
  "metadata": {
    "colab": {
      "provenance": [],
      "authorship_tag": "ABX9TyNmPO/qI4FZ90wKimkEe4X0",
      "include_colab_link": true
    },
    "kernelspec": {
      "name": "python3",
      "display_name": "Python 3"
    },
    "language_info": {
      "name": "python"
    }
  },
  "cells": [
    {
      "cell_type": "markdown",
      "metadata": {
        "id": "view-in-github",
        "colab_type": "text"
      },
      "source": [
        "<a href=\"https://colab.research.google.com/github/gokulprazath/SupportTicket_Agent/blob/main/SupportTicket_LangGraph.ipynb\" target=\"_parent\"><img src=\"https://colab.research.google.com/assets/colab-badge.svg\" alt=\"Open In Colab\"/></a>"
      ]
    },
    {
      "cell_type": "markdown",
      "source": [
        "\n",
        "\n",
        "Build a system specialized agents that analyze support tickets and determine\n",
        "appropriate routing.\n",
        "\n",
        "By Gokul prazath Sri."
      ],
      "metadata": {
        "id": "gMQ3tJFMNXgY"
      }
    },
    {
      "cell_type": "markdown",
      "metadata": {
        "id": "de389a6c"
      },
      "source": [
        "## Notebook Overview\n",
        "\n",
        "This notebook demonstrates how to build a support agent using `pydantic-ai` that interacts with a SQLite database to manage support tickets. The key steps covered are:\n",
        "\n",
        "1.  **Installation**: Installing the necessary libraries, including `pydantic-ai`, `crewai`, `openai`, and `pydantic-ai-slim[groq]`.\n",
        "2.  **Model Definition**: Defining the language model to be used by the agent. In this case, a Groq model is configured.\n",
        "3.  **Agent Definition and Run**: Defining the `SupportAgent` with its dependencies, output type, and system prompt. This section also shows how to run the agent with a specific prompt and dependencies.\n",
        "4.  **Database Operations (Manual)**:\n",
        "    *   Creating a SQLite database and a `tickets` table.\n",
        "    *   Inserting sample ticket data into the table.\n",
        "    *   Displaying the data currently in the table.\n",
        "    *   Removing all data from the table (optional).\n",
        "5.  **Agent Tools**: Defining the tools that the `SupportAgent` can use to interact with the database:\n",
        "    *   `insert_ticket`: To add new tickets.\n",
        "    *   `extract_details`: To retrieve details of existing tickets.\n",
        "    *   `update_details`: To modify details of existing tickets."
      ]
    },
    {
      "cell_type": "code",
      "metadata": {
        "id": "07682261"
      },
      "source": [
        "!pip install pydantic-ai crewai openai pydantic-ai-slim[groq]"
      ],
      "execution_count": null,
      "outputs": []
    },
    {
      "cell_type": "code",
      "execution_count": null,
      "metadata": {
        "id": "MYpy7g_vxD10"
      },
      "outputs": [],
      "source": [
        "from dataclasses import dataclass\n",
        "from pydantic import BaseModel, Field\n",
        "from pydantic_ai import Agent, RunContext2\n",
        "from pydantic_ai.providers.google import GoogleProvider\n",
        "from enum import Enum\n",
        "from typing import Dict, Any, List, Optional\n",
        "import sqlite3\n",
        "from google.colab import userdata\n",
        "from crewai import Agent, Task, Crew, Process\n",
        "from crewai.tools import tool\n",
        "from openai import OpenAI"
      ]
    },
    {
      "cell_type": "markdown",
      "source": [
        "# Insert, display, remove the data in db"
      ],
      "metadata": {
        "id": "sryUQxaz03SI"
      }
    },
    {
      "cell_type": "code",
      "source": [
        "def create_table(conn):\n",
        "    with conn:\n",
        "        conn.execute('''CREATE TABLE IF NOT EXISTS tickets (\n",
        "                            ticket_id TEXT PRIMARY KEY NOT NULL,\n",
        "                            customer_tier TEXT,\n",
        "                            subject TEXT,\n",
        "                            message TEXT,\n",
        "                            previous_tickets INTEGER,\n",
        "                            monthly_revenue REAL,\n",
        "                            account_age_days INTEGER,\n",
        "                            status TEXT,\n",
        "                            priority INTEGER\n",
        "                        )''')\n",
        "def manual_insert_ticket(tick,db:Dict[str, Any])->str:\n",
        "    conn = sqlite3.connect(\"/content/sample_data/ticket.db\")\n",
        "    cursor = conn.cursor()\n",
        "    create_table(conn)\n",
        "    # cursor.execute(f\"SELECT name FROM sqlite_master WHERE type='table' AND name=tickets;\")\n",
        "    # if cursor.fetchone() is not None:\n",
        "    #     create_table(conn)\n",
        "\n",
        "    chunk_size = 1000 # Define a chunk size for bulk inserts\n",
        "    with conn:\n",
        "        ticket_id = tick\n",
        "        values = (\n",
        "                ticket_id,\n",
        "                db.get(\"customer_tier\"),\n",
        "                db.get(\"subject\"),\n",
        "                db.get(\"message\"),\n",
        "                db.get(\"previous_tickets\"),\n",
        "                db.get(\"monthly_revenue\"),\n",
        "                db.get(\"account_age_days\"),\n",
        "                \"open\"\n",
        "        )\n",
        "        print(values)\n",
        "\n",
        "        placeholders = \", \".join([\"(?, ?, ?, ?, ?, ?, ?,?)\"] )\n",
        "        sql = f\"INSERT INTO tickets (ticket_id, customer_tier, subject, message, previous_tickets, monthly_revenue, account_age_days,status) VALUES {placeholders}\"\n",
        "        conn.execute(sql, values) # Corrected: Pass the tuple directly\n",
        "    conn.close\n",
        "    return \"insertion successful\"\n",
        "manual_ticket_data = [\n",
        "    {\n",
        "        \"ticket_id\": \"MAN-001\",\n",
        "        \"customer_tier\": \"basic\",\n",
        "        \"subject\": \"Login issue on mobile\",\n",
        "        \"message\": \"Unable to log in using the mobile application.\",\n",
        "        \"previous_tickets\": 5,\n",
        "        \"monthly_revenue\": 150,\n",
        "        \"account_age_days\": 150,\n",
        "        \"status\": \"open\"\n",
        "    },\n",
        "    {\n",
        "        \"ticket_id\": \"MAN-002\",\n",
        "        \"customer_tier\": \"premium\",\n",
        "        \"subject\": \"Feature request: Export data\",\n",
        "        \"message\": \"Would be great to have an option to export data in CSV format.\",\n",
        "        \"previous_tickets\": 1,\n",
        "        \"monthly_revenue\": 500,\n",
        "        \"account_age_days\": 300,\n",
        "        \"status\": \"in-progress\"\n",
        "    },\n",
        "    {\n",
        "        \"ticket_id\": \"MAN-003\",\n",
        "        \"customer_tier\": \"free\",\n",
        "        \"subject\": \"Question about pricing\",\n",
        "        \"message\": \"I have a question about the different pricing tiers.\",\n",
        "        \"previous_tickets\": 0,\n",
        "        \"monthly_revenue\": 0,\n",
        "        \"account_age_days\": 10,\n",
        "\n",
        "        \"status\": \"closed\"\n",
        "    }\n",
        "]\n",
        "for i in manual_ticket_data:\n",
        "    print(i)\n",
        "    tick=i.get(\"ticket_id\")\n",
        "    insert_result =  manual_insert_ticket(tick,i)"
      ],
      "metadata": {
        "id": "r-oJ-VExhORF",
        "colab": {
          "base_uri": "https://localhost:8080/"
        },
        "outputId": "6de37813-1f32-4467-babf-4252b3ca2b10"
      },
      "execution_count": null,
      "outputs": [
        {
          "output_type": "stream",
          "name": "stdout",
          "text": [
            "{'ticket_id': 'MAN-001', 'customer_tier': 'basic', 'subject': 'Login issue on mobile', 'message': 'Unable to log in using the mobile application.', 'previous_tickets': 5, 'monthly_revenue': 150, 'account_age_days': 150, 'status': 'open'}\n",
            "('MAN-001', 'basic', 'Login issue on mobile', 'Unable to log in using the mobile application.', 5, 150, 150, 'open')\n",
            "{'ticket_id': 'MAN-002', 'customer_tier': 'premium', 'subject': 'Feature request: Export data', 'message': 'Would be great to have an option to export data in CSV format.', 'previous_tickets': 1, 'monthly_revenue': 500, 'account_age_days': 300, 'status': 'in-progress'}\n",
            "('MAN-002', 'premium', 'Feature request: Export data', 'Would be great to have an option to export data in CSV format.', 1, 500, 300, 'open')\n",
            "{'ticket_id': 'MAN-003', 'customer_tier': 'free', 'subject': 'Question about pricing', 'message': 'I have a question about the different pricing tiers.', 'previous_tickets': 0, 'monthly_revenue': 0, 'account_age_days': 10, 'status': 'closed'}\n",
            "('MAN-003', 'free', 'Question about pricing', 'I have a question about the different pricing tiers.', 0, 0, 10, 'open')\n"
          ]
        }
      ]
    },
    {
      "cell_type": "code",
      "source": [
        "# prompt: display all data in db\n",
        "\n",
        "conn = sqlite3.connect(\"/content/sample_data/ticket.db\")\n",
        "cursor = conn.cursor()\n",
        "\n",
        "# Check if the table exists\n",
        "cursor.execute(\"SELECT name FROM sqlite_master WHERE type='table' AND name='tickets';\")\n",
        "if cursor.fetchone() is None:\n",
        "    print(\"Table 'tickets' does not exist.\")\n",
        "else:\n",
        "    cursor.execute(\"SELECT * FROM tickets\")\n",
        "    rows = cursor.fetchall()\n",
        "\n",
        "    if not rows:\n",
        "        print(\"The 'tickets' table is empty.\")\n",
        "    else:\n",
        "        # Get column names\n",
        "        column_names = [description[0] for description in cursor.description]\n",
        "\n",
        "        # Print header\n",
        "        print(column_names)\n",
        "        # Print data rows\n",
        "        for row in rows:\n",
        "            print(row)\n",
        "\n",
        "conn.close()\n"
      ],
      "metadata": {
        "colab": {
          "base_uri": "https://localhost:8080/"
        },
        "id": "wcA0-nN3Iddd",
        "outputId": "84be39ad-169f-40b8-8379-07dc6022255e"
      },
      "execution_count": null,
      "outputs": [
        {
          "output_type": "stream",
          "name": "stdout",
          "text": [
            "['ticket_id', 'customer_tier', 'subject', 'message', 'previous_tickets', 'monthly_revenue', 'account_age_days', 'status', 'priority']\n",
            "('MAN-001', 'basic', 'Login issue on mobile', 'Unable to log in using the mobile application.', 5, 150.0, 150, 'open', None)\n",
            "('MAN-002', 'premium', 'Feature request: Export data', 'Would be great to have an option to export data in CSV format.', 1, 500.0, 300, 'open', None)\n",
            "('MAN-003', 'free', 'Question about pricing', 'I have a question about the different pricing tiers.', 0, 0.0, 10, 'open', None)\n"
          ]
        }
      ]
    },
    {
      "cell_type": "code",
      "source": [
        "# Run ONLY if u need to remove the data from db\n",
        "\n",
        "conn = sqlite3.connect(\"/content/sample_data/ticket.db\")\n",
        "cursor = conn.cursor()\n",
        "\n",
        "try:\n",
        "    # Check if the table exists\n",
        "    cursor.execute(\"SELECT name FROM sqlite_master WHERE type='table' AND name='tickets';\")\n",
        "    if cursor.fetchone() is None:\n",
        "        print(\"Table 'tickets' does not exist.\")\n",
        "    else:\n",
        "        # Delete all rows from the tickets table\n",
        "        cursor.execute(\"DELETE FROM tickets\")\n",
        "        conn.commit()\n",
        "        print(\"All data removed from the 'tickets' table.\")\n",
        "\n",
        "except sqlite3.Error as e:\n",
        "    print(f\"Error removing data: {e}\")\n",
        "finally:\n",
        "    conn.close()"
      ],
      "metadata": {
        "colab": {
          "base_uri": "https://localhost:8080/"
        },
        "id": "vcW3Xgh-JY5V",
        "outputId": "e5e48ac4-7ac4-4cec-9a8e-a4196656adcb"
      },
      "execution_count": null,
      "outputs": [
        {
          "output_type": "stream",
          "name": "stdout",
          "text": [
            "All data removed from the 'tickets' table.\n"
          ]
        }
      ]
    },
    {
      "cell_type": "markdown",
      "source": [
        "# Agent definition"
      ],
      "metadata": {
        "id": "wrsq2QC11B_y"
      }
    },
    {
      "cell_type": "code",
      "source": [
        "import os\n",
        "from pydantic_ai.models.groq import GroqModel\n",
        "from pydantic_ai.providers.groq import GroqProvider\n",
        "\n",
        "os.environ[\"GROQ_API_KEY\"]=\"your_groq_api_key\"# You can intialize in env or manually\n",
        "model = GroqModel(\n",
        "    'llama-3.3-70b-versatile',\n",
        "    provider=GroqProvider(api_key='your_groq_api_key'),\n",
        ")\n",
        "from httpx import AsyncClient\n",
        "\n",
        "from pydantic_ai.models.openai import OpenAIModel\n",
        "from pydantic_ai.providers.together import TogetherProvider\n",
        "\n",
        "# model = OpenAIModel(\n",
        "#     'meta-llama/Llama-3.3-70B-Instruct-Turbo-Free',  # model library available at https://www.together.ai/models\n",
        "#     provider=TogetherProvider(api_key='your_key'),\n",
        "# )\n"
      ],
      "metadata": {
        "id": "HFvvQKqNjYRE"
      },
      "execution_count": null,
      "outputs": []
    },
    {
      "cell_type": "code",
      "source": [
        "from dataclasses import dataclass\n",
        "from pydantic import BaseModel, Field\n",
        "from pydantic_ai import Agent as PydanticAgent, RunContext\n",
        "from pydantic_ai.providers.google import GoogleProvider\n",
        "from enum import Enum\n",
        "from typing import Dict, Any, List, Optional\n",
        "import sqlite3\n",
        "from google.colab import userdata\n",
        "from crewai import Agent, Task, Crew, Process\n",
        "from crewai.tools import tool\n",
        "from openai import OpenAI\n",
        "\n",
        "@dataclass\n",
        "class SupportDependencies:\n",
        "    ticket_id: str\n",
        "\n",
        "class Status(Enum):\n",
        "    OPEN = \"open\"\n",
        "    IN_PROGRESS = \"in_PROGRESS\"\n",
        "    CLOSED = \"closed\"\n",
        "\n",
        "class RiskLevel(Enum):\n",
        "    LOW = \"low\"\n",
        "    MEDIUM = \"medium\"\n",
        "    HIGH = \"high\"\n",
        "\n",
        "class SupportOutput(BaseModel): # Useful for getting structured output.\n",
        "    support_advice: str = Field(description='Advice returned to the customer')\n",
        "    ticket_priority: Optional[int] = Field(description=\"Priority given to the ticket based on the ticket details\", ge=0, le=5)\n",
        "    status: Optional[Status] = Field(description='Status of the ticket')\n",
        "    ticket_details:  Optional[Dict[str, Any]] = Field(description='Details about the ticket as a list of JSON object which can be extracted with the help of tools')\n",
        "\n",
        "support_agent = PydanticAgent(\n",
        "    model=model, # Pass the model as a keyword argument\n",
        "    deps_type=SupportDependencies,\n",
        "    system_prompt=(\n",
        "   \"\"\"You are a support agent in our company, responsible for assisting customers with managing support tickets.\\n\\n\n",
        "        Your tasks include:\\n\n",
        "        - Creating new tickets using the `insert_ticket` function. Input: db: Dict[str, Any]. Each entry in the list is a row (JSON) representing ticket data.\\n\n",
        "        - Extracting details of one or more tickets using the `extract_details` function. Input: columns: List[str], which specifies which fields to extract for the given ticket_id(s).\\n\n",
        "        - Updating one or more tickets using the `update_details` function.\\n\\n\n",
        "        Your main responsibilities are:\\n\n",
        "        - Support users in creating new tickets by collecting and inserting ticket_details.\\n\n",
        "        - Assist users in updating specific fields in a ticket using `update_details` and displaying the updated result.\\n\n",
        "        - Automatically generate the priority of a ticket based on the inserted details and update the record accordingly.\\n\n",
        "        - Ensure clear and helpful communication with users throughout the support process.\\n\\n\n",
        "        You can use multilple tools according to the input request. Always ensure accuracy and integrity of ticket data. Confirm updates or extractions with clear, concise responses.\"\"\"\n",
        "    ),\n",
        ")"
      ],
      "metadata": {
        "id": "8oDLEsHixMNj"
      },
      "execution_count": null,
      "outputs": []
    },
    {
      "cell_type": "markdown",
      "source": [
        "# Tool Definition"
      ],
      "metadata": {
        "id": "DrDyjNPx1rnR"
      }
    },
    {
      "cell_type": "code",
      "source": [
        "\n",
        "@support_agent.tool\n",
        "async def insert_ticket(deps:RunContext[SupportDependencies],db:Dict[str, Any]):\n",
        "    \"\"\"Inserts a new ticket into the database.\"\"\"\n",
        "    print(\"Insertion started\")\n",
        "    conn = sqlite3.connect(\"/content/sample_data/ticket.db\")\n",
        "    cursor = conn.cursor()\n",
        "    # cursor.execute(f\"SELECT name FROM sqlite_master WHERE type='table' AND name=tickets;\")\n",
        "    # if cursor.fetchone() is not None:\n",
        "    #     create_table(conn)\n",
        "\n",
        "    with conn:\n",
        "        ticket_id = deps.deps.ticket_id\n",
        "        values = [\n",
        "                ticket_id,\n",
        "                db.get(\"customer_tier\"),\n",
        "                db.get(\"subject\"),\n",
        "                db.get(\"message\"),\n",
        "                db.get(\"previous_tickets\"),\n",
        "                db.get(\"monthly_revenue\"),\n",
        "                db.get(\"account_age_days\"),\n",
        "                \"open\"\n",
        "        ]\n",
        "        placeholders = \", \".join([\"(?, ?, ?, ?, ?, ?, ?,?)\"] )\n",
        "        sql = f\"INSERT INTO tickets (ticket_id, customer_tier, subject, message, previous_tickets, monthly_revenue, account_age_days,status) VALUES {placeholders}\"\n",
        "        conn.execute(sql, values)\n",
        "        print(\"Insertion successfully completed details\",db)\n",
        "    conn.close()\n",
        "    return \"insertion successful\""
      ],
      "metadata": {
        "id": "OgJriS6VDBDW"
      },
      "execution_count": null,
      "outputs": []
    },
    {
      "cell_type": "code",
      "source": [
        "\n",
        "@support_agent.tool\n",
        "async def update_details(ticket_id:RunContext[SupportDependencies],ticket_updates:Dict[str,Any]) -> str:\n",
        "    \"\"\"Updates details for a given ticket ID in the database.\"\"\"\n",
        "    print(\"Update started\")\n",
        "    conn = sqlite3.connect(\"/content/sample_data/ticket.db\")\n",
        "    cursor = conn.cursor()\n",
        "    print(ticket_id.deps.ticket_id)\n",
        "    updated_count = 0\n",
        "    with conn:\n",
        "        ticket_id = ticket_id.deps.ticket_id\n",
        "\n",
        "        # Build the SET clause for the UPDATE query\n",
        "        set_clauses = []\n",
        "        values = []\n",
        "        for key, value in ticket_updates.items():\n",
        "            if key != \"ticket_id\":\n",
        "                set_clauses.append(f\"{key} = ?\")\n",
        "                values.append(value)\n",
        "\n",
        "        # Add ticket_id to values for the WHERE clause\n",
        "        values.append(ticket_id)\n",
        "\n",
        "        if not set_clauses: # Check if there are any fields to update\n",
        "            conn.close()\n",
        "            return f\"No updatable fields provided for ticket {ticket_id}.\"\n",
        "\n",
        "        sql_query = f\"UPDATE tickets SET {', '.join(set_clauses)} WHERE ticket_id = ?\"\n",
        "\n",
        "        try:\n",
        "            cursor.execute(sql_query, values)\n",
        "            print(f\"Update completed details for {ticket_id}\",ticket_updates)\n",
        "        except sqlite3.Error as e:\n",
        "            print(f\"Error updating ticket {ticket_id}: {e}\")\n",
        "\n",
        "\n",
        "    conn.close()\n",
        "    return f\"Successfully attempted to update details for ticket {ticket_id}\""
      ],
      "metadata": {
        "id": "Jn9FTHXDNK4K"
      },
      "execution_count": null,
      "outputs": []
    },
    {
      "cell_type": "code",
      "source": [
        "@support_agent.tool\n",
        "async def extract_details(ticket_id:RunContext[SupportDependencies],columns:List[str]) -> Dict[str, Any]:\n",
        "    \"\"\"Extracts details for a given ticket ID from the database.\"\"\"\n",
        "    print(\"Extraction started\")\n",
        "    conn = sqlite3.connect(\"/content/sample_data/ticket.db\")\n",
        "    cursor = conn.cursor()\n",
        "    ticket_id= ticket_id.deps.ticket_id\n",
        "    print(ticket_id,columns)\n",
        "    if 'ticket_id' not in columns:\n",
        "        columns.append('ticket_id')\n",
        "\n",
        "\n",
        "\n",
        "    # Create the SELECT query\n",
        "    columns_str = \", \".join(columns)\n",
        "    sql_query = f\"SELECT {columns_str} FROM tickets WHERE ticket_id = ?\"\n",
        "    cursor.execute(sql_query, (ticket_id,)) # Pass ticket_id as a tuple\n",
        "    rows = cursor.fetchall()\n",
        "    row=rows[0]\n",
        "    result = {}\n",
        "    for i, col in enumerate(columns):\n",
        "        result[col] = row[i]\n",
        "    conn.close()\n",
        "    print(\"Extraction completed and the output is \",result)\n",
        "    return result,\"Extraction Successfull and the details are \""
      ],
      "metadata": {
        "id": "qBWucygyDEyC"
      },
      "execution_count": null,
      "outputs": []
    },
    {
      "cell_type": "markdown",
      "source": [
        "# Agent run"
      ],
      "metadata": {
        "id": "ZbODCLKg2AKc"
      }
    },
    {
      "cell_type": "code",
      "source": [
        "insert_prompt=\"\"\"Call the `insert_ticket` tool with the following ticket details as the `db` argument:\n",
        "{\"ticket_id\": \"assfd1234\",\n",
        "    \"customer_tier\": \"enterprise\",\n",
        "\"subject\": \"Urgent: Security vulnerability?\",\n",
        "\"message\": \"Our security team flagged that your API responses include internal server paths in\",\n",
        "\"previous_tickets\": 20,\n",
        "\"monthly_revenue\": 50000,\n",
        "\"account_age_days\": 900}\n",
        "\"\"\"\n",
        "extract_prompt=\"Extract the customer_tier,subject,monthly_revenue related to ticket_id assfd123 using extract_details tool\"\n",
        "update_prompt=\"Update the monthly_revenue for the ticket assfd123 to 91999\""
      ],
      "metadata": {
        "id": "_L-1hwhYyyTU"
      },
      "execution_count": null,
      "outputs": []
    },
    {
      "cell_type": "code",
      "source": [
        "\n",
        "deps = SupportDependencies(ticket_id=\"asssfd1234\")\n",
        "result = await support_agent.run(insert_prompt ,deps=deps)\n",
        "print(result.output)"
      ],
      "metadata": {
        "colab": {
          "base_uri": "https://localhost:8080/"
        },
        "id": "Aq8f6nIqxPBt",
        "outputId": "14d8c328-8d93-4358-82a3-7f8c29a32bbb"
      },
      "execution_count": null,
      "outputs": [
        {
          "output_type": "stream",
          "name": "stdout",
          "text": [
            "Insertion started\n",
            "Insertion successfully completed details {'account_age_days': 900, 'customer_tier': 'enterprise', 'message': 'Our security team flagged that your API responses include internal server paths in', 'monthly_revenue': 50000, 'previous_tickets': 20, 'subject': 'Urgent: Security vulnerability?', 'ticket_id': 'assfd1234'}\n",
            "Update started\n",
            "asssfd1234\n",
            "Update completed details for asssfd1234 {'priority': 'high', 'ticket_id': 'assfd1234'}\n",
            "The ticket has been inserted and updated with a high priority.\n"
          ]
        }
      ]
    },
    {
      "cell_type": "code",
      "source": [
        "deps = SupportDependencies(ticket_id=\"assfd1234\")\n",
        "result = await support_agent.run(extract_prompt ,deps=deps)\n",
        "print(result.output)"
      ],
      "metadata": {
        "colab": {
          "base_uri": "https://localhost:8080/"
        },
        "id": "OBktz7qEMm_o",
        "outputId": "7069575b-247c-4189-e318-7b82e1c63531"
      },
      "execution_count": null,
      "outputs": [
        {
          "output_type": "stream",
          "name": "stdout",
          "text": [
            "Extraction started\n",
            "assfd1234 ['customer_tier', 'subject', 'monthly_revenue']\n",
            "Extraction completed and the output is  {'customer_tier': 'enterprise', 'subject': 'Urgent: Security vulnerability?', 'monthly_revenue': 50000.0, 'ticket_id': 'assfd1234'}\n"
          ]
        }
      ]
    },
    {
      "cell_type": "code",
      "source": [
        "deps = SupportDependencies(ticket_id=\"assfd1234\")\n",
        "result = await support_agent.run(update_prompt ,deps=deps)\n",
        "print(result.output)"
      ],
      "metadata": {
        "colab": {
          "base_uri": "https://localhost:8080/"
        },
        "id": "lG8kDOihMW_h",
        "outputId": "39c0c9d1-00da-4239-c198-9e2452e94a4f"
      },
      "execution_count": null,
      "outputs": [
        {
          "output_type": "stream",
          "name": "stdout",
          "text": [
            "Update started\n",
            "assfd1234\n",
            "Update completed details for assfd1234 {'monthly_revenue': 91999, 'ticket_id': 'assfd123'}\n",
            "Extraction started\n",
            "assfd1234 ['monthly_revenue']\n",
            "Extraction completed and the output is  {'monthly_revenue': 91999.0, 'ticket_id': 'assfd1234'}\n",
            "The monthly_revenue for the ticket assfd123 has been successfully updated to 91999. The updated details are: monthly_revenue: 91999.\n"
          ]
        }
      ]
    },
    {
      "cell_type": "code",
      "source": [
        "print(result.all_messages())"
      ],
      "metadata": {
        "colab": {
          "base_uri": "https://localhost:8080/"
        },
        "id": "OQqwn_2r9Osw",
        "outputId": "cc4f4196-d089-4421-dece-3a51f61b1a73"
      },
      "execution_count": null,
      "outputs": [
        {
          "output_type": "stream",
          "name": "stdout",
          "text": [
            "[ModelRequest(parts=[SystemPromptPart(content='You are a support agent in our company, responsible for assisting customers with managing support tickets.\\n\\n\\n        Your tasks include:\\n\\n        - Creating new tickets using the `insert_ticket` function. Input: db: Dict[str, Any]. Each entry in the list is a row (JSON) representing ticket data.\\n\\n        - Extracting details of one or more tickets using the `extract_details` function. Input: columns: List[str], which specifies which fields to extract for the given ticket_id(s).\\n\\n        - Updating one or more tickets using the `update_details` function.\\n\\n\\n        Your main responsibilities are:\\n\\n        - Support users in creating new tickets by collecting and inserting ticket_details.\\n\\n        - Assist users in updating specific fields in a ticket using `update_details` and displaying the updated result.\\n\\n        - Automatically generate the priority of a ticket based on the inserted details and update the record accordingly.\\n\\n        - Ensure clear and helpful communication with users throughout the support process.\\n\\n\\n        Always ensure accuracy and integrity of ticket data. Confirm updates or extractions with clear, concise responses.', timestamp=datetime.datetime(2025, 6, 23, 4, 2, 11, 621778, tzinfo=datetime.timezone.utc)), UserPromptPart(content='Call the `insert_ticket` tool with the following ticket details as the `db` argument:\\n{\"customer_tier\": \"enterprise\",\\n\"subject\": \"Urgent: Security vulnerability?\",\\n\"message\": \"Our security team flagged that your API responses include internal server paths in\",\\n\"previous_tickets\": 20,\\n\"monthly_revenue\": 50000,\\n\"account_age_days\": 900}\\n', timestamp=datetime.datetime(2025, 6, 23, 4, 2, 11, 621789, tzinfo=datetime.timezone.utc))]), ModelResponse(parts=[ToolCallPart(tool_name='insert_ticket', args='{\"db\":{\"account_age_days\":900,\"customer_tier\":\"enterprise\",\"message\":\"Our security team flagged that your API responses include internal server paths in\",\"monthly_revenue\":50000,\"previous_tickets\":20,\"subject\":\"Urgent: Security vulnerability?\"}}', tool_call_id='call_0465i2zvpdi38zqvwf78t80q')], usage=Usage(requests=1, request_tokens=967, response_tokens=81, total_tokens=1048, details={}), model_name='meta-llama/Llama-3.3-70B-Instruct-Turbo-Free', timestamp=datetime.datetime(2025, 6, 23, 4, 2, 11, tzinfo=TzInfo(UTC)), vendor_id='nzE4g9Y-4Yz4kd-954116a708e82250'), ModelRequest(parts=[ToolReturnPart(tool_name='insert_ticket', content='insertion successful', tool_call_id='call_0465i2zvpdi38zqvwf78t80q', timestamp=datetime.datetime(2025, 6, 23, 4, 2, 13, 204246, tzinfo=datetime.timezone.utc))]), ModelResponse(parts=[TextPart(content='The function call to `insert_ticket` has been executed with the provided ticket details as the `db` argument. The ticket details include the customer tier, subject, message, previous tickets, monthly revenue, and account age in days.')], usage=Usage(requests=1, request_tokens=1048, response_tokens=48, total_tokens=1096, details={}), model_name='meta-llama/Llama-3.3-70B-Instruct-Turbo-Free', timestamp=datetime.datetime(2025, 6, 23, 4, 2, 13, tzinfo=TzInfo(UTC)), vendor_id='nzE4gZe-3NKUce-954116b098952250'), ModelRequest(parts=[RetryPromptPart(content='Plain text responses are not permitted, please include your response in a tool call', tool_call_id='pyd_ai_8399268baa5b43748519c0ecc9ec7e2b', timestamp=datetime.datetime(2025, 6, 23, 4, 2, 16, 940763, tzinfo=datetime.timezone.utc))]), ModelResponse(parts=[ToolCallPart(tool_name='final_result', args='{\"status\":\"open\",\"support_advice\":\"The function call to insert_ticket has been executed with the provided ticket details as the db argument. The ticket details include the customer tier, subject, message, previous tickets, monthly revenue, and account age in days.\",\"ticket_details\":{\"account_age_days\":900,\"customer_tier\":\"enterprise\",\"message\":\"Our security team flagged that your API responses include internal server paths in\",\"monthly_revenue\":50000,\"previous_tickets\":20,\"subject\":\"Urgent: Security vulnerability?\"},\"ticket_priority\":3}', tool_call_id='call_iyprc29d1qw98afu5udhnvw5')], usage=Usage(requests=1, request_tokens=1128, response_tokens=147, total_tokens=1275, details={}), model_name='meta-llama/Llama-3.3-70B-Instruct-Turbo-Free', timestamp=datetime.datetime(2025, 6, 23, 4, 2, 23, tzinfo=TzInfo(UTC)), vendor_id='nzE4jkL-3NKUce-954116f38883f83e'), ModelRequest(parts=[ToolReturnPart(tool_name='final_result', content='Final result processed.', tool_call_id='call_iyprc29d1qw98afu5udhnvw5', timestamp=datetime.datetime(2025, 6, 23, 4, 2, 25, 245247, tzinfo=datetime.timezone.utc))])]\n"
          ]
        }
      ]
    },
    {
      "cell_type": "code",
      "source": [
        "print(\"\"\"[ModelRequest(parts=[SystemPromptPart(content='You are a support agent in our company, responsible for assisting customers with managing support tickets.\\n\\n\\n        Your tasks include:\\n\\n        - Creating new tickets using the `insert_ticket` function. Input: db: Dict[str, Any]. Each entry in the list is a row (JSON) representing ticket data.\\n\\n        - Extracting details of one or more tickets using the `extract_details` function. Input: columns: List[str], which specifies which fields to extract for the given ticket_id(s).\\n\\n        - Updating one or more tickets using the `update_details` function.\\n\\n\\n        Your main responsibilities are:\\n\\n        - Support users in creating new tickets by collecting and inserting ticket_details.\\n\\n        - Assist users in updating specific fields in a ticket using `update_details` and displaying the updated result.\\n\\n        - Automatically generate the priority of a ticket based on the inserted details and update the record accordingly.\\n\\n        - Ensure clear and helpful communication with users throughout the support process.\\n\\n\\n        Always ensure accuracy and integrity of ticket data. Confirm updates or extractions with clear, concise responses.', timestamp=datetime.datetime(2025, 6, 23, 4, 2, 11, 621778, tzinfo=datetime.timezone.utc)), UserPromptPart(content='Call the `insert_ticket` tool with the following ticket details as the `db` argument:\\n{\"customer_tier\": \"enterprise\",\\n\"subject\": \"Urgent: Security vulnerability?\",\\n\"message\": \"Our security team flagged that your API responses include internal server paths in\",\\n\"previous_tickets\": 20,\\n\"monthly_revenue\": 50000,\\n\"account_age_days\": 900}\\n', timestamp=datetime.datetime(2025, 6, 23, 4, 2, 11, 621789, tzinfo=datetime.timezone.utc))]), ModelResponse(parts=[ToolCallPart(tool_name='insert_ticket', args='{\"db\":{\"account_age_days\":900,\"customer_tier\":\"enterprise\",\"message\":\"Our security team flagged that your API responses include internal server paths in\",\"monthly_revenue\":50000,\"previous_tickets\":20,\"subject\":\"Urgent: Security vulnerability?\"}}', tool_call_id='call_0465i2zvpdi38zqvwf78t80q')], usage=Usage(requests=1, request_tokens=967, response_tokens=81, total_tokens=1048, details={}), model_name='meta-llama/Llama-3.3-70B-Instruct-Turbo-Free', timestamp=datetime.datetime(2025, 6, 23, 4, 2, 11, tzinfo=TzInfo(UTC)), vendor_id='nzE4g9Y-4Yz4kd-954116a708e82250'), ModelRequest(parts=[ToolReturnPart(tool_name='insert_ticket', content='insertion successful', tool_call_id='call_0465i2zvpdi38zqvwf78t80q', timestamp=datetime.datetime(2025, 6, 23, 4, 2, 13, 204246, tzinfo=datetime.timezone.utc))]), ModelResponse(parts=[TextPart(content='The function call to `insert_ticket` has been executed with the provided ticket details as the `db` argument. The ticket details include the customer tier, subject, message, previous tickets, monthly revenue, and account age in days.')], usage=Usage(requests=1, request_tokens=1048, response_tokens=48, total_tokens=1096, details={}), model_name='meta-llama/Llama-3.3-70B-Instruct-Turbo-Free', timestamp=datetime.datetime(2025, 6, 23, 4, 2, 13, tzinfo=TzInfo(UTC)), vendor_id='nzE4gZe-3NKUce-954116b098952250'), ModelRequest(parts=[RetryPromptPart(content='Plain text responses are not permitted, please include your response in a tool call', tool_call_id='pyd_ai_8399268baa5b43748519c0ecc9ec7e2b', timestamp=datetime.datetime(2025, 6, 23, 4, 2, 16, 940763, tzinfo=datetime.timezone.utc))]), ModelResponse(parts=[ToolCallPart(tool_name='final_result', args='{\"status\":\"open\",\"support_advice\":\"The function call to insert_ticket has been executed with the provided ticket details as the db argument. The ticket details include the customer tier, subject, message, previous tickets, monthly revenue, and account age in days.\",\"ticket_details\":{\"account_age_days\":900,\"customer_tier\":\"enterprise\",\"message\":\"Our security team flagged that your API responses include internal server paths in\",\"monthly_revenue\":50000,\"previous_tickets\":20,\"subject\":\"Urgent: Security vulnerability?\"},\"ticket_priority\":3}', tool_call_id='call_iyprc29d1qw98afu5udhnvw5')], usage=Usage(requests=1, request_tokens=1128, response_tokens=147, total_tokens=1275, details={}), model_name='meta-llama/Llama-3.3-70B-Instruct-Turbo-Free', timestamp=datetime.datetime(2025, 6, 23, 4, 2, 23, tzinfo=TzInfo(UTC)), vendor_id='nzE4jkL-3NKUce-954116f38883f83e'), ModelRequest(parts=[ToolReturnPart(tool_name='final_result', content='Final result processed.', tool_call_id='call_iyprc29d1qw98afu5udhnvw5', timestamp=datetime.datetime(2025, 6, 23, 4, 2, 25, 245247, tzinfo=datetime.timezone.utc))])]\n",
        "\n",
        "\"\"\")"
      ],
      "metadata": {
        "colab": {
          "base_uri": "https://localhost:8080/"
        },
        "id": "1jUWV_Ka9WNE",
        "outputId": "033ad698-e1a7-42d7-9476-9ef38d3a3d2b"
      },
      "execution_count": null,
      "outputs": [
        {
          "output_type": "stream",
          "name": "stdout",
          "text": [
            "[ModelRequest(parts=[SystemPromptPart(content='You are a support agent in our company, responsible for assisting customers with managing support tickets.\n",
            "\n",
            "\n",
            "        Your tasks include:\n",
            "\n",
            "        - Creating new tickets using the `insert_ticket` function. Input: db: Dict[str, Any]. Each entry in the list is a row (JSON) representing ticket data.\n",
            "\n",
            "        - Extracting details of one or more tickets using the `extract_details` function. Input: columns: List[str], which specifies which fields to extract for the given ticket_id(s).\n",
            "\n",
            "        - Updating one or more tickets using the `update_details` function.\n",
            "\n",
            "\n",
            "        Your main responsibilities are:\n",
            "\n",
            "        - Support users in creating new tickets by collecting and inserting ticket_details.\n",
            "\n",
            "        - Assist users in updating specific fields in a ticket using `update_details` and displaying the updated result.\n",
            "\n",
            "        - Automatically generate the priority of a ticket based on the inserted details and update the record accordingly.\n",
            "\n",
            "        - Ensure clear and helpful communication with users throughout the support process.\n",
            "\n",
            "\n",
            "        Always ensure accuracy and integrity of ticket data. Confirm updates or extractions with clear, concise responses.', timestamp=datetime.datetime(2025, 6, 23, 4, 2, 11, 621778, tzinfo=datetime.timezone.utc)), UserPromptPart(content='Call the `insert_ticket` tool with the following ticket details as the `db` argument:\n",
            "{\"customer_tier\": \"enterprise\",\n",
            "\"subject\": \"Urgent: Security vulnerability?\",\n",
            "\"message\": \"Our security team flagged that your API responses include internal server paths in\",\n",
            "\"previous_tickets\": 20,\n",
            "\"monthly_revenue\": 50000,\n",
            "\"account_age_days\": 900}\n",
            "', timestamp=datetime.datetime(2025, 6, 23, 4, 2, 11, 621789, tzinfo=datetime.timezone.utc))]), ModelResponse(parts=[ToolCallPart(tool_name='insert_ticket', args='{\"db\":{\"account_age_days\":900,\"customer_tier\":\"enterprise\",\"message\":\"Our security team flagged that your API responses include internal server paths in\",\"monthly_revenue\":50000,\"previous_tickets\":20,\"subject\":\"Urgent: Security vulnerability?\"}}', tool_call_id='call_0465i2zvpdi38zqvwf78t80q')], usage=Usage(requests=1, request_tokens=967, response_tokens=81, total_tokens=1048, details={}), model_name='meta-llama/Llama-3.3-70B-Instruct-Turbo-Free', timestamp=datetime.datetime(2025, 6, 23, 4, 2, 11, tzinfo=TzInfo(UTC)), vendor_id='nzE4g9Y-4Yz4kd-954116a708e82250'), ModelRequest(parts=[ToolReturnPart(tool_name='insert_ticket', content='insertion successful', tool_call_id='call_0465i2zvpdi38zqvwf78t80q', timestamp=datetime.datetime(2025, 6, 23, 4, 2, 13, 204246, tzinfo=datetime.timezone.utc))]), ModelResponse(parts=[TextPart(content='The function call to `insert_ticket` has been executed with the provided ticket details as the `db` argument. The ticket details include the customer tier, subject, message, previous tickets, monthly revenue, and account age in days.')], usage=Usage(requests=1, request_tokens=1048, response_tokens=48, total_tokens=1096, details={}), model_name='meta-llama/Llama-3.3-70B-Instruct-Turbo-Free', timestamp=datetime.datetime(2025, 6, 23, 4, 2, 13, tzinfo=TzInfo(UTC)), vendor_id='nzE4gZe-3NKUce-954116b098952250'), ModelRequest(parts=[RetryPromptPart(content='Plain text responses are not permitted, please include your response in a tool call', tool_call_id='pyd_ai_8399268baa5b43748519c0ecc9ec7e2b', timestamp=datetime.datetime(2025, 6, 23, 4, 2, 16, 940763, tzinfo=datetime.timezone.utc))]), ModelResponse(parts=[ToolCallPart(tool_name='final_result', args='{\"status\":\"open\",\"support_advice\":\"The function call to insert_ticket has been executed with the provided ticket details as the db argument. The ticket details include the customer tier, subject, message, previous tickets, monthly revenue, and account age in days.\",\"ticket_details\":{\"account_age_days\":900,\"customer_tier\":\"enterprise\",\"message\":\"Our security team flagged that your API responses include internal server paths in\",\"monthly_revenue\":50000,\"previous_tickets\":20,\"subject\":\"Urgent: Security vulnerability?\"},\"ticket_priority\":3}', tool_call_id='call_iyprc29d1qw98afu5udhnvw5')], usage=Usage(requests=1, request_tokens=1128, response_tokens=147, total_tokens=1275, details={}), model_name='meta-llama/Llama-3.3-70B-Instruct-Turbo-Free', timestamp=datetime.datetime(2025, 6, 23, 4, 2, 23, tzinfo=TzInfo(UTC)), vendor_id='nzE4jkL-3NKUce-954116f38883f83e'), ModelRequest(parts=[ToolReturnPart(tool_name='final_result', content='Final result processed.', tool_call_id='call_iyprc29d1qw98afu5udhnvw5', timestamp=datetime.datetime(2025, 6, 23, 4, 2, 25, 245247, tzinfo=datetime.timezone.utc))])]\n",
            "\n",
            "\n"
          ]
        }
      ]
    },
    {
      "cell_type": "markdown",
      "source": [
        "# Challenges Faced"
      ],
      "metadata": {
        "id": "m7jSGo-03Vn3"
      }
    },
    {
      "cell_type": "markdown",
      "source": [
        "\n",
        "\n",
        "*   Each model in pydantic_ai has its own features, advantages and disadvantages.\n",
        "\n",
        "    1.   Gpt-4o--> very good model and can understand the simple prompt and do the needed change. But not available freely needs to pay.     \n",
        "    2.   Gemini--> Single api call works good and provides detailed output. Doesn't support tool calls completely. But available in free tier.\n",
        "    3.   Groq--> Works pretty good with proper prompting. Limited usage which makes difficult to play with it.\n",
        "    4.   Crew AI--> More volatile and needs different kind of definition when compared to all of these.\n",
        "    5.   Together AI--> It just supports needs more improvement.\n",
        "\n",
        "\n",
        "*   Pydantic Agents are weaker than autogen agent while comparing with tool usage. In autogen tools can be called easily with the customized input and description is more than enough but here dependecies restricts the llm to understand certain things. For these usecase understanding of data is not needed much but for complex problems I would prefer autogen, Lang graph.\n",
        "\n",
        "\n"
      ],
      "metadata": {
        "id": "IdiqXc7w4gI1"
      }
    },
    {
      "cell_type": "markdown",
      "source": [
        "# What can be done"
      ],
      "metadata": {
        "id": "6db12Qxl7-Pc"
      }
    },
    {
      "cell_type": "markdown",
      "source": [
        "\n",
        "\n",
        "*   Ticketing system can be build for categorizing, planning, automating the process.\n",
        "    1. Once the user files a ticket provide a documentation steps related to the problem.\n",
        "    2. If still facing issue then we should priorotize and categorize the issue like hardware issue, software issue, etc.. And can assign priority.\n",
        "    3. Assign the ticket to respective department and assign it based on difficulty eg: the easy tickets to juniors complex one to seniors.\n",
        "\n",
        "*   MCP, RAG can be utilized for efficient usage and integration. And output will be accurate.\n",
        "\n"
      ],
      "metadata": {
        "id": "KB3k09nj8Yy2"
      }
    },
    {
      "cell_type": "markdown",
      "source": [
        "> ✨ Thanks for viewing, it just takes 10 mins to run :)\n",
        "\n"
      ],
      "metadata": {
        "id": "9UIk7aP4ULfo"
      }
    }
  ]
}